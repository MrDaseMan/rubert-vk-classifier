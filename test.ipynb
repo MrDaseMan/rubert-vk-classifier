{
 "cells": [
  {
   "cell_type": "markdown",
   "metadata": {},
   "source": [
    "## Тестирование точности работы нейронной сети\n",
    "\n",
    "### Загружаем существующую модель\n",
    "\n",
    "Загружаем уже готовую или обученную в прошлом модель из [./trained_models](./trained_models)"
   ]
  },
  {
   "cell_type": "code",
   "execution_count": null,
   "metadata": {},
   "outputs": [],
   "source": [
    "from bert_classifier import BertClassifier\n",
    "\n",
    "classifier = BertClassifier(\n",
    "    model_path='cointegrated/rubert-tiny',          # Путь до репозитория с дообучаемой моделью\n",
    "    tokenizer_path='cointegrated/rubert-tiny',      # Путь до токенизатора\n",
    "    n_classes=41,                                   # Количество классов для обучения\n",
    "    epochs=60,                                      # Количество эпох обучения\n",
    "    max_len=512,                                    # Максимальный размер текста\n",
    "    model_save_path='./output/model.pt'             # Путь до сохранения модели\n",
    ")\n",
    "\n",
    "classifier.load_model('./trained_models/model_v0_5.pt')"
   ]
  },
  {
   "cell_type": "markdown",
   "metadata": {},
   "source": [
    "### Используя тестовый датасет, предсказываем группы направлений\n",
    "\n",
    "* Загружаем тестовый датасет\n",
    "* Предсказываем группы направлений\n",
    "* Сравниваем результаты\n",
    "* Сохраняем отчёт"
   ]
  },
  {
   "cell_type": "code",
   "execution_count": null,
   "metadata": {},
   "outputs": [],
   "source": [
    "import pandas as pd\n",
    "import time\n",
    "\n",
    "### some data preparation logic\n",
    "test_data  = pd.read_csv('./dataset/test.csv')\n",
    "\n",
    "texts = list(test_data['groups'])\n",
    "labels = list(test_data['code'])\n",
    "\n",
    "predictions = [classifier.predict(t) for t in texts]\n",
    "\n",
    "report = []     # form report variable\n",
    "\n",
    "for t, l, p in zip(texts, labels, predictions):\n",
    "    report.append({\n",
    "        \"real_group\": l,\n",
    "        \"predicted_group\": p['prediction'],\n",
    "        \"isEqual\": (\"no\", \"yes\")[l == p['prediction']],\n",
    "        \"groups_set\": t\n",
    "    })\n",
    " \n",
    "### display results (uncomment what u need)\n",
    "report_df = pd.DataFrame(report)\n",
    "report_df.to_csv(f\"./reports/test{time.time()}.csv\", index_label=\"id\", sep=\";\", encoding=\"cp1251\")\n",
    "\n",
    "print(f\"Точность предсказаний: {(report_df[(report_df['isEqual']=='yes')].count()['isEqual']/report_df.__len__())}\")"
   ]
  }
 ],
 "metadata": {
  "kernelspec": {
   "display_name": "Python 3",
   "language": "python",
   "name": "python3"
  },
  "language_info": {
   "codemirror_mode": {
    "name": "ipython",
    "version": 3
   },
   "file_extension": ".py",
   "mimetype": "text/x-python",
   "name": "python",
   "nbconvert_exporter": "python",
   "pygments_lexer": "ipython3",
   "version": "3.10.6"
  }
 },
 "nbformat": 4,
 "nbformat_minor": 2
}
